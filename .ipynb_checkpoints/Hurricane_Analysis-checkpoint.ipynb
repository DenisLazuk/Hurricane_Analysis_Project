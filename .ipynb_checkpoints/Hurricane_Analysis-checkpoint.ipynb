{
 "cells": [
  {
   "cell_type": "code",
   "execution_count": 1,
   "id": "4a4b4a22",
   "metadata": {},
   "outputs": [],
   "source": [
    "# names of hurricanes\n",
    "names = ['Cuba I', 'San Felipe II Okeechobee', 'Bahamas', 'Cuba II', 'CubaBrownsville', 'Tampico', 'Labor Day', 'New England', 'Carol', 'Janet', 'Carla', 'Hattie', 'Beulah', 'Camille', 'Edith', 'Anita', 'David', 'Allen', 'Gilbert', 'Hugo', 'Andrew', 'Mitch', 'Isabel', 'Ivan', 'Emily', 'Katrina', 'Rita', 'Wilma', 'Dean', 'Felix', 'Matthew', 'Irma', 'Maria', 'Michael']\n",
    "\n",
    "# months of hurricanes\n",
    "months = ['October', 'September', 'September', 'November', 'August', 'September', 'September', 'September', 'September', 'September', 'September', 'October', 'September', 'August', 'September', 'September', 'August', 'August', 'September', 'September', 'August', 'October', 'September', 'September', 'July', 'August', 'September', 'October', 'August', 'September', 'October', 'September', 'September', 'October']\n",
    "\n",
    "# years of hurricanes\n",
    "years = [1924, 1928, 1932, 1932, 1933, 1933, 1935, 1938, 1953, 1955, 1961, 1961, 1967, 1969, 1971, 1977, 1979, 1980, 1988, 1989, 1992, 1998, 2003, 2004, 2005, 2005, 2005, 2005, 2007, 2007, 2016, 2017, 2017, 2018]\n",
    "\n",
    "# maximum sustained winds (mph) of hurricanes\n",
    "max_sustained_winds = [165, 160, 160, 175, 160, 160, 185, 160, 160, 175, 175, 160, 160, 175, 160, 175, 175, 190, 185, 160, 175, 180, 165, 165, 160, 175, 180, 185, 175, 175, 165, 180, 175, 160]\n",
    "\n",
    "# areas affected by each hurricane\n",
    "areas_affected = [['Central America', 'Mexico', 'Cuba', 'Florida', 'The Bahamas'], ['Lesser Antilles', 'The Bahamas', 'United States East Coast', 'Atlantic Canada'], ['The Bahamas', 'Northeastern United States'], ['Lesser Antilles', 'Jamaica', 'Cayman Islands', 'Cuba', 'The Bahamas', 'Bermuda'], ['The Bahamas', 'Cuba', 'Florida', 'Texas', 'Tamaulipas'], ['Jamaica', 'Yucatn Peninsula'], ['The Bahamas', 'Florida', 'Georgia', 'The Carolinas', 'Virginia'], ['Southeastern United States', 'Northeastern United States', 'Southwestern Quebec'], ['Bermuda', 'New England', 'Atlantic Canada'], ['Lesser Antilles', 'Central America'], ['Texas', 'Louisiana', 'Midwestern United States'], ['Central America'], ['The Caribbean', 'Mexico', 'Texas'], ['Cuba', 'United States Gulf Coast'], ['The Caribbean', 'Central America', 'Mexico', 'United States Gulf Coast'], ['Mexico'], ['The Caribbean', 'United States East coast'], ['The Caribbean', 'Yucatn Peninsula', 'Mexico', 'South Texas'], ['Jamaica', 'Venezuela', 'Central America', 'Hispaniola', 'Mexico'], ['The Caribbean', 'United States East Coast'], ['The Bahamas', 'Florida', 'United States Gulf Coast'], ['Central America', 'Yucatn Peninsula', 'South Florida'], ['Greater Antilles', 'Bahamas', 'Eastern United States', 'Ontario'], ['The Caribbean', 'Venezuela', 'United States Gulf Coast'], ['Windward Islands', 'Jamaica', 'Mexico', 'Texas'], ['Bahamas', 'United States Gulf Coast'], ['Cuba', 'United States Gulf Coast'], ['Greater Antilles', 'Central America', 'Florida'], ['The Caribbean', 'Central America'], ['Nicaragua', 'Honduras'], ['Antilles', 'Venezuela', 'Colombia', 'United States East Coast', 'Atlantic Canada'], ['Cape Verde', 'The Caribbean', 'British Virgin Islands', 'U.S. Virgin Islands', 'Cuba', 'Florida'], ['Lesser Antilles', 'Virgin Islands', 'Puerto Rico', 'Dominican Republic', 'Turks and Caicos Islands'], ['Central America', 'United States Gulf Coast (especially Florida Panhandle)']]\n",
    "\n",
    "# damages (USD($)) of hurricanes\n",
    "damages = ['Damages not recorded', '100M', 'Damages not recorded', '40M', '27.9M', '5M', 'Damages not recorded', '306M', '2M', '65.8M', '326M', '60.3M', '208M', '1.42B', '25.4M', 'Damages not recorded', '1.54B', '1.24B', '7.1B', '10B', '26.5B', '6.2B', '5.37B', '23.3B', '1.01B', '125B', '12B', '29.4B', '1.76B', '720M', '15.1B', '64.8B', '91.6B', '25.1B']\n",
    "\n",
    "# deaths for each hurricane\n",
    "deaths = [90,4000,16,3103,179,184,408,682,5,1023,43,319,688,259,37,11,2068,269,318,107,65,19325,51,124,17,1836,125,87,45,133,603,138,3057,74]"
   ]
  },
  {
   "cell_type": "code",
   "execution_count": 2,
   "id": "f245396c",
   "metadata": {},
   "outputs": [
    {
     "name": "stdout",
     "output_type": "stream",
     "text": [
      "['Damages not recorded', 100000000.0, 'Damages not recorded', 40000000.0, 27900000.0, 5000000.0, 'Damages not recorded', 306000000.0, 2000000.0, 65800000.0, 326000000.0, 60300000.0, 208000000.0, 1420000000.0, 25400000.0, 'Damages not recorded', 1540000000.0, 1240000000.0, 7100000000.0, 10000000000.0, 26500000000.0, 6200000000.0, 5370000000.0, 23300000000.0, 1010000000.0, 125000000000.0, 12000000000.0, 29400000000.0, 1760000000.0, 720000000.0, 15100000000.0, 64800000000.0, 91600000000.0, 25100000000.0]\n"
     ]
    }
   ],
   "source": [
    "# TASK 1\n",
    "# Write a function that returns a new list of updated damages where the recorded data is converted to float values and the missing data is retained as \"Damages not recorded\".\n",
    "# Update Recorded Damages\n",
    "conversion = {\"M\": 1000000,\n",
    "              \"B\": 1000000000}\n",
    "def updated_damages (damages):\n",
    "    updated_damages = []\n",
    "    for i in damages:\n",
    "        if i != \"Damages not recorded\":\n",
    "            number = float(i[:-1])\n",
    "            unit = i[-1]\n",
    "            result = conversion[unit] * number\n",
    "            updated_damages.append(result)\n",
    "        else:\n",
    "            updated_damages.append('Damages not recorded')\n",
    "    return updated_damages\n",
    "# test function by updating damages\n",
    "updated_damages = updated_damages (damages)\n",
    "print(updated_damages)"
   ]
  },
  {
   "cell_type": "code",
   "execution_count": 3,
   "id": "23c90c3a",
   "metadata": {},
   "outputs": [
    {
     "name": "stdout",
     "output_type": "stream",
     "text": [
      "{'Cuba I': {'Name': 'Cuba I', 'Month': 'October', 'Year': 1924, 'Max Sustained Wind': 165, 'Areas Affected': ['Central America', 'Mexico', 'Cuba', 'Florida', 'The Bahamas'], 'Damage': 'Damages not recorded', 'Deaths': 90}, 'San Felipe II Okeechobee': {'Name': 'San Felipe II Okeechobee', 'Month': 'September', 'Year': 1928, 'Max Sustained Wind': 160, 'Areas Affected': ['Lesser Antilles', 'The Bahamas', 'United States East Coast', 'Atlantic Canada'], 'Damage': 100000000.0, 'Deaths': 4000}, 'Bahamas': {'Name': 'Bahamas', 'Month': 'September', 'Year': 1932, 'Max Sustained Wind': 160, 'Areas Affected': ['The Bahamas', 'Northeastern United States'], 'Damage': 'Damages not recorded', 'Deaths': 16}, 'Cuba II': {'Name': 'Cuba II', 'Month': 'November', 'Year': 1932, 'Max Sustained Wind': 175, 'Areas Affected': ['Lesser Antilles', 'Jamaica', 'Cayman Islands', 'Cuba', 'The Bahamas', 'Bermuda'], 'Damage': 40000000.0, 'Deaths': 3103}, 'CubaBrownsville': {'Name': 'CubaBrownsville', 'Month': 'August', 'Year': 1933, 'Max Sustained Wind': 160, 'Areas Affected': ['The Bahamas', 'Cuba', 'Florida', 'Texas', 'Tamaulipas'], 'Damage': 27900000.0, 'Deaths': 179}, 'Tampico': {'Name': 'Tampico', 'Month': 'September', 'Year': 1933, 'Max Sustained Wind': 160, 'Areas Affected': ['Jamaica', 'Yucatn Peninsula'], 'Damage': 5000000.0, 'Deaths': 184}, 'Labor Day': {'Name': 'Labor Day', 'Month': 'September', 'Year': 1935, 'Max Sustained Wind': 185, 'Areas Affected': ['The Bahamas', 'Florida', 'Georgia', 'The Carolinas', 'Virginia'], 'Damage': 'Damages not recorded', 'Deaths': 408}, 'New England': {'Name': 'New England', 'Month': 'September', 'Year': 1938, 'Max Sustained Wind': 160, 'Areas Affected': ['Southeastern United States', 'Northeastern United States', 'Southwestern Quebec'], 'Damage': 306000000.0, 'Deaths': 682}, 'Carol': {'Name': 'Carol', 'Month': 'September', 'Year': 1953, 'Max Sustained Wind': 160, 'Areas Affected': ['Bermuda', 'New England', 'Atlantic Canada'], 'Damage': 2000000.0, 'Deaths': 5}, 'Janet': {'Name': 'Janet', 'Month': 'September', 'Year': 1955, 'Max Sustained Wind': 175, 'Areas Affected': ['Lesser Antilles', 'Central America'], 'Damage': 65800000.0, 'Deaths': 1023}, 'Carla': {'Name': 'Carla', 'Month': 'September', 'Year': 1961, 'Max Sustained Wind': 175, 'Areas Affected': ['Texas', 'Louisiana', 'Midwestern United States'], 'Damage': 326000000.0, 'Deaths': 43}, 'Hattie': {'Name': 'Hattie', 'Month': 'October', 'Year': 1961, 'Max Sustained Wind': 160, 'Areas Affected': ['Central America'], 'Damage': 60300000.0, 'Deaths': 319}, 'Beulah': {'Name': 'Beulah', 'Month': 'September', 'Year': 1967, 'Max Sustained Wind': 160, 'Areas Affected': ['The Caribbean', 'Mexico', 'Texas'], 'Damage': 208000000.0, 'Deaths': 688}, 'Camille': {'Name': 'Camille', 'Month': 'August', 'Year': 1969, 'Max Sustained Wind': 175, 'Areas Affected': ['Cuba', 'United States Gulf Coast'], 'Damage': 1420000000.0, 'Deaths': 259}, 'Edith': {'Name': 'Edith', 'Month': 'September', 'Year': 1971, 'Max Sustained Wind': 160, 'Areas Affected': ['The Caribbean', 'Central America', 'Mexico', 'United States Gulf Coast'], 'Damage': 25400000.0, 'Deaths': 37}, 'Anita': {'Name': 'Anita', 'Month': 'September', 'Year': 1977, 'Max Sustained Wind': 175, 'Areas Affected': ['Mexico'], 'Damage': 'Damages not recorded', 'Deaths': 11}, 'David': {'Name': 'David', 'Month': 'August', 'Year': 1979, 'Max Sustained Wind': 175, 'Areas Affected': ['The Caribbean', 'United States East coast'], 'Damage': 1540000000.0, 'Deaths': 2068}, 'Allen': {'Name': 'Allen', 'Month': 'August', 'Year': 1980, 'Max Sustained Wind': 190, 'Areas Affected': ['The Caribbean', 'Yucatn Peninsula', 'Mexico', 'South Texas'], 'Damage': 1240000000.0, 'Deaths': 269}, 'Gilbert': {'Name': 'Gilbert', 'Month': 'September', 'Year': 1988, 'Max Sustained Wind': 185, 'Areas Affected': ['Jamaica', 'Venezuela', 'Central America', 'Hispaniola', 'Mexico'], 'Damage': 7100000000.0, 'Deaths': 318}, 'Hugo': {'Name': 'Hugo', 'Month': 'September', 'Year': 1989, 'Max Sustained Wind': 160, 'Areas Affected': ['The Caribbean', 'United States East Coast'], 'Damage': 10000000000.0, 'Deaths': 107}, 'Andrew': {'Name': 'Andrew', 'Month': 'August', 'Year': 1992, 'Max Sustained Wind': 175, 'Areas Affected': ['The Bahamas', 'Florida', 'United States Gulf Coast'], 'Damage': 26500000000.0, 'Deaths': 65}, 'Mitch': {'Name': 'Mitch', 'Month': 'October', 'Year': 1998, 'Max Sustained Wind': 180, 'Areas Affected': ['Central America', 'Yucatn Peninsula', 'South Florida'], 'Damage': 6200000000.0, 'Deaths': 19325}, 'Isabel': {'Name': 'Isabel', 'Month': 'September', 'Year': 2003, 'Max Sustained Wind': 165, 'Areas Affected': ['Greater Antilles', 'Bahamas', 'Eastern United States', 'Ontario'], 'Damage': 5370000000.0, 'Deaths': 51}, 'Ivan': {'Name': 'Ivan', 'Month': 'September', 'Year': 2004, 'Max Sustained Wind': 165, 'Areas Affected': ['The Caribbean', 'Venezuela', 'United States Gulf Coast'], 'Damage': 23300000000.0, 'Deaths': 124}, 'Emily': {'Name': 'Emily', 'Month': 'July', 'Year': 2005, 'Max Sustained Wind': 160, 'Areas Affected': ['Windward Islands', 'Jamaica', 'Mexico', 'Texas'], 'Damage': 1010000000.0, 'Deaths': 17}, 'Katrina': {'Name': 'Katrina', 'Month': 'August', 'Year': 2005, 'Max Sustained Wind': 175, 'Areas Affected': ['Bahamas', 'United States Gulf Coast'], 'Damage': 125000000000.0, 'Deaths': 1836}, 'Rita': {'Name': 'Rita', 'Month': 'September', 'Year': 2005, 'Max Sustained Wind': 180, 'Areas Affected': ['Cuba', 'United States Gulf Coast'], 'Damage': 12000000000.0, 'Deaths': 125}, 'Wilma': {'Name': 'Wilma', 'Month': 'October', 'Year': 2005, 'Max Sustained Wind': 185, 'Areas Affected': ['Greater Antilles', 'Central America', 'Florida'], 'Damage': 29400000000.0, 'Deaths': 87}, 'Dean': {'Name': 'Dean', 'Month': 'August', 'Year': 2007, 'Max Sustained Wind': 175, 'Areas Affected': ['The Caribbean', 'Central America'], 'Damage': 1760000000.0, 'Deaths': 45}, 'Felix': {'Name': 'Felix', 'Month': 'September', 'Year': 2007, 'Max Sustained Wind': 175, 'Areas Affected': ['Nicaragua', 'Honduras'], 'Damage': 720000000.0, 'Deaths': 133}, 'Matthew': {'Name': 'Matthew', 'Month': 'October', 'Year': 2016, 'Max Sustained Wind': 165, 'Areas Affected': ['Antilles', 'Venezuela', 'Colombia', 'United States East Coast', 'Atlantic Canada'], 'Damage': 15100000000.0, 'Deaths': 603}, 'Irma': {'Name': 'Irma', 'Month': 'September', 'Year': 2017, 'Max Sustained Wind': 180, 'Areas Affected': ['Cape Verde', 'The Caribbean', 'British Virgin Islands', 'U.S. Virgin Islands', 'Cuba', 'Florida'], 'Damage': 64800000000.0, 'Deaths': 138}, 'Maria': {'Name': 'Maria', 'Month': 'September', 'Year': 2017, 'Max Sustained Wind': 175, 'Areas Affected': ['Lesser Antilles', 'Virgin Islands', 'Puerto Rico', 'Dominican Republic', 'Turks and Caicos Islands'], 'Damage': 91600000000.0, 'Deaths': 3057}, 'Michael': {'Name': 'Michael', 'Month': 'October', 'Year': 2018, 'Max Sustained Wind': 160, 'Areas Affected': ['Central America', 'United States Gulf Coast (especially Florida Panhandle)'], 'Damage': 25100000000.0, 'Deaths': 74}}\n"
     ]
    }
   ],
   "source": [
    "# TASK 2\n",
    "# Write a function that constructs a dictionary made out of the lists, \n",
    "# where the keys of the dictionary are the names of the hurricanes, \n",
    "# and the values are dictionaries themselves containing a key for each piece of data \n",
    "#(Name, Month, Year,Max Sustained Wind, Areas Affected, Damage, Death) about the hurricane.\n",
    "def updated_records():\n",
    "    hurricanes = {}\n",
    "    for i in range(len(names)):\n",
    "        hurricanes[names[i]] = {\"Name\": names[i],\n",
    "                 \"Month\": months[i],\n",
    "                 \"Year\": years[i],\n",
    "                 \"Max Sustained Wind\": max_sustained_winds[i],\n",
    "                 \"Areas Affected\": areas_affected[i],\n",
    "                 \"Damage\": updated_damages[i],\n",
    "                 \"Deaths\": deaths[i]}\n",
    "    return hurricanes\n",
    "\n",
    "hurricanes = updated_records()\n",
    "print(hurricanes)"
   ]
  },
  {
   "cell_type": "code",
   "execution_count": 4,
   "id": "2118515e",
   "metadata": {},
   "outputs": [],
   "source": [
    "# 2. Not correct first solution.\n",
    "# Create a Table\n",
    "def updated_records():\n",
    "    for index in range(len(names)):\n",
    "        table = {\"Name\": names[index],\n",
    "                 \"Month\": months[index],\n",
    "                 \"Year\": years[index],\n",
    "                 \"Max Sustained Wind\": max_sustained_winds[index],\n",
    "                 \"Areas Affected\": areas_affected[index],\n",
    "                 \"Damage\": updated_damages[index],\n",
    "                 \"Deaths\": deaths[index]}\n",
    "        print (table)\n",
    "\n",
    "# Create and view the hurricanes dictionary\n",
    "#hurricanes = updated_records()\n",
    "#print(hurricanes)\n"
   ]
  },
  {
   "cell_type": "code",
   "execution_count": 5,
   "id": "240de69a",
   "metadata": {},
   "outputs": [
    {
     "name": "stdout",
     "output_type": "stream",
     "text": [
      "[{'Name': 'New England', 'Month': 'September', 'Year': 1938, 'Max Sustained Wind': 160, 'Areas Affected': ['Southeastern United States', 'Northeastern United States', 'Southwestern Quebec'], 'Damage': 306000000.0, 'Deaths': 682}]\n"
     ]
    }
   ],
   "source": [
    "# TASK 3. \n",
    "# Write a function that converts the current dictionary of hurricanes to a new dictionary, \n",
    "# where the keys are years and the values are lists containing a dictionary for each hurricane \n",
    "# that occurred in that year.\n",
    "def hurricane_by_year_dictionary(year):\n",
    "    hurricane_by_year = []\n",
    "    for i in hurricanes:\n",
    "        if hurricanes[i]['Year'] == year:\n",
    "            hurricane_by_year.append(hurricanes[i])\n",
    "    return hurricane_by_year\n",
    "print(hurricane_by_year_dictionary(1938))\n"
   ]
  },
  {
   "cell_type": "code",
   "execution_count": 6,
   "id": "36e20a2a",
   "metadata": {},
   "outputs": [
    {
     "name": "stdout",
     "output_type": "stream",
     "text": [
      "{'Central America': 9, 'Mexico': 7, 'Cuba': 6, 'Florida': 6, 'The Bahamas': 7, 'Lesser Antilles': 4, 'United States East Coast': 3, 'Atlantic Canada': 3, 'Northeastern United States': 2, 'Jamaica': 4, 'Cayman Islands': 1, 'Bermuda': 2, 'Texas': 4, 'Tamaulipas': 1, 'Yucatn Peninsula': 3, 'Georgia': 1, 'The Carolinas': 1, 'Virginia': 1, 'Southeastern United States': 1, 'Southwestern Quebec': 1, 'New England': 1, 'Louisiana': 1, 'Midwestern United States': 1, 'The Caribbean': 8, 'United States Gulf Coast': 6, 'United States East coast': 1, 'South Texas': 1, 'Venezuela': 3, 'Hispaniola': 1, 'South Florida': 1, 'Greater Antilles': 2, 'Bahamas': 2, 'Eastern United States': 1, 'Ontario': 1, 'Windward Islands': 1, 'Nicaragua': 1, 'Honduras': 1, 'Antilles': 1, 'Colombia': 1, 'Cape Verde': 1, 'British Virgin Islands': 1, 'U.S. Virgin Islands': 1, 'Virgin Islands': 1, 'Puerto Rico': 1, 'Dominican Republic': 1, 'Turks and Caicos Islands': 1, 'United States Gulf Coast (especially Florida Panhandle)': 1}\n"
     ]
    }
   ],
   "source": [
    "# TASK 4. \n",
    "# Write a function that counts how often each area is listed as an affected area of a hurricane. \n",
    "# Store and return the results in a dictionary where the keys are the affected areas \n",
    "# and the values are counts of how many times the areas were affected.\n",
    "# Counting Damaged Areas\n",
    "def hurricane_by_area_dictionary(dict):\n",
    "  hurricane_by_area = {}\n",
    "  for i in dict:\n",
    "    for area in dict[i]['Areas Affected']:\n",
    "      if area in hurricane_by_area:\n",
    "        hurricane_by_area[area] += 1\n",
    "      else:\n",
    "        hurricane_by_area[area] = 1\n",
    "  return hurricane_by_area\n",
    "# create dictionary of areas to store the number of hurricanes involved in\n",
    "affected_areas_count = hurricane_by_area_dictionary(hurricanes)\n",
    "print(affected_areas_count)\n",
    "#s = 'mississippi'\n",
    "#d = defaultdict(int)\n",
    "#for k in s:\n",
    "#d[k] += 1\n"
   ]
  },
  {
   "cell_type": "code",
   "execution_count": 7,
   "id": "a9a6f210",
   "metadata": {},
   "outputs": [
    {
     "name": "stdout",
     "output_type": "stream",
     "text": [
      "('Central America', 9)\n"
     ]
    }
   ],
   "source": [
    "# TASK 5. \n",
    "# Write a function that finds the area affected by the most hurricanes, and how often it was hit.\n",
    "# Calculating Maximum Hurricane Count\n",
    "def max_areas_affected(affected_areas_count):\n",
    "    max_area = ''\n",
    "    max_area_count  = 0\n",
    "    for area in affected_areas_count:\n",
    "        if affected_areas_count[area] > max_area_count:\n",
    "            max_area = area\n",
    "            max_area_count  = affected_areas_count[area]\n",
    "    return max_area, max_area_count \n",
    "max_areas_affected = max_areas_affected(affected_areas_count)\n",
    "# find most frequently affected area and the number of hurricanes involved in\n",
    "print(max_areas_affected)"
   ]
  },
  {
   "cell_type": "code",
   "execution_count": 8,
   "id": "47fd20b3",
   "metadata": {},
   "outputs": [
    {
     "name": "stdout",
     "output_type": "stream",
     "text": [
      "('Mitch', 19325)\n",
      "{'Name': 'Mitch', 'Month': 'October', 'Year': 1998, 'Max Sustained Wind': 180, 'Areas Affected': ['Central America', 'Yucatn Peninsula', 'South Florida'], 'Damage': 6200000000.0, 'Deaths': 19325}\n"
     ]
    }
   ],
   "source": [
    "# TASK 6.\n",
    "# Write a function that finds the hurricane that caused the greatest number of deaths, \n",
    "# and how many deaths it caused.\n",
    "# Calculating the Deadliest Hurricane\n",
    "def most_fatal_hurricane(dict):\n",
    "  max_mortality_cane = ''\n",
    "  max_mortality = 0\n",
    "  for name in dict:\n",
    "    if dict[name]['Deaths'] > max_mortality:\n",
    "      max_mortality_cane = name\n",
    "      max_mortality = dict[name]['Deaths']\n",
    "  return max_mortality_cane, max_mortality\n",
    "# find highest mortality hurricane and the number of deaths\n",
    "most_fatal_hurricane = most_fatal_hurricane(hurricanes)\n",
    "print(most_fatal_hurricane)\n",
    "\n",
    "print(hurricanes[\"Mitch\"])"
   ]
  },
  {
   "cell_type": "code",
   "execution_count": 9,
   "id": "7f62ce19",
   "metadata": {},
   "outputs": [
    {
     "name": "stdout",
     "output_type": "stream",
     "text": [
      "{0: [], 1: ['Cuba I', 'Bahamas', 'Carol', 'Carla', 'Edith', 'Anita', 'Andrew', 'Isabel', 'Emily', 'Wilma', 'Dean', 'Michael'], 2: ['CubaBrownsville', 'Tampico', 'Labor Day', 'Hattie', 'Camille', 'Allen', 'Gilbert', 'Hugo', 'Ivan', 'Rita', 'Felix', 'Irma'], 3: ['New England', 'Beulah', 'Matthew'], 4: ['San Felipe II Okeechobee', 'Cuba II', 'Janet', 'David', 'Katrina', 'Maria'], 5: ['Mitch']}\n"
     ]
    }
   ],
   "source": [
    "# TASK 7.\n",
    "# Write a function that rates hurricanes on a mortality scale according to the following ratings, \n",
    "# where the key is the rating and the value is the upper bound of deaths for that rating.\n",
    "# Store the hurricanes in a new dictionary where the keys are mortality ratings \n",
    "# and the values are lists containing a dictionary for each hurricane that falls into that mortality rating.\n",
    "# Rating Hurricanes by Mortality\n",
    "hurricane_mortality = {0:[],1:[],2:[],3:[],4:[],5:[]}\n",
    "mortality_scale= {0: 0,\n",
    "                   1: 100,\n",
    "                   2: 500,\n",
    "                   3: 1000,\n",
    "                   4: 10000}\n",
    "def mortality_rating (dict):\n",
    "  for name in dict:\n",
    "    if dict[name]['Deaths'] == mortality_scale[0]:\n",
    "      hurricane_mortality[0] = name\n",
    "    elif mortality_scale[0] < dict[name]['Deaths'] <= mortality_scale[1]:\n",
    "      hurricane_mortality[1].append(name)\n",
    "    elif mortality_scale[1] < dict[name]['Deaths'] <= mortality_scale[2]:\n",
    "      hurricane_mortality[2].append(name)\n",
    "    elif mortality_scale[2] <= dict[name]['Deaths'] <= mortality_scale[3]:\n",
    "      hurricane_mortality[3].append(name)\n",
    "    elif mortality_scale[3] <= dict[name]['Deaths'] <= mortality_scale[4]:\n",
    "      hurricane_mortality[4].append(name)\n",
    "    else:\n",
    "      hurricane_mortality[5].append(name)\n",
    "  return hurricane_mortality\n",
    "# categorize hurricanes in new dictionary with mortality severity as key\n",
    "print(mortality_rating(hurricanes))\n"
   ]
  },
  {
   "cell_type": "code",
   "execution_count": 10,
   "id": "78449096",
   "metadata": {},
   "outputs": [
    {
     "name": "stdout",
     "output_type": "stream",
     "text": [
      "('Katrina', 125000000000.0)\n"
     ]
    }
   ],
   "source": [
    "# TASK 8.\n",
    "# Write a function that finds the hurricane that caused the greatest damage, and how costly it was.\n",
    "# Calculating Hurricane Maximum Damage\n",
    "def most_damage_by_hurricane(dict):\n",
    "  max_damage_cane = ''\n",
    "  max_damage = 0\n",
    "  for name in dict:\n",
    "    if dict[name]['Damage'] != 'Damages not recorded' and dict[name]['Damage'] > max_damage:\n",
    "      max_damage_cane = name\n",
    "      max_damage = dict[name]['Damage']\n",
    "  return max_damage_cane, max_damage\n",
    "# find highest damage inducing hurricane and its total cost\n",
    "most_damage_by_hurricane = most_damage_by_hurricane(hurricanes)\n",
    "print(most_damage_by_hurricane)"
   ]
  },
  {
   "cell_type": "code",
   "execution_count": 11,
   "id": "0b447c98",
   "metadata": {},
   "outputs": [
    {
     "name": "stdout",
     "output_type": "stream",
     "text": [
      "{'No damage': ['Cuba I', 'Bahamas', 'Labor Day', 'Anita'], 1: ['San Felipe II Okeechobee', 'Cuba II', 'CubaBrownsville', 'Tampico', 'Carol', 'Janet', 'Hattie', 'Edith'], 2: ['New England', 'Carla', 'Beulah', 'Felix'], 3: ['Camille', 'David', 'Allen', 'Gilbert', 'Hugo', 'Mitch', 'Isabel', 'Emily', 'Dean'], 4: ['Andrew', 'Ivan', 'Rita', 'Wilma', 'Matthew', 'Michael'], 5: ['Katrina', 'Irma', 'Maria']}\n"
     ]
    }
   ],
   "source": [
    "# TASK 9.\n",
    "# Write a function that rates hurricanes on a damage scale according to the following ratings, \n",
    "# where the key is the rating and the value is the upper bound of damage for that rating.\n",
    "# Store the hurricanes in a new dictionary where the keys are damage ratings \n",
    "# and the values are lists containing a dictionary for each hurricane that falls into that damage rating.\n",
    "# Rating Hurricanes by Damage\n",
    "hurricane_by_damage = {\"No damage\":[],1:[],2:[],3:[],4:[],5:[]}\n",
    "damage_scale = {0: 0,\n",
    "                1: 100000000,\n",
    "                2: 1000000000,\n",
    "                3: 10000000000,\n",
    "                4: 50000000000}\n",
    "def damage_rating (dict):\n",
    "  for name in dict:\n",
    "    if dict[name]['Damage'] == 'Damages not recorded':\n",
    "      hurricane_by_damage['No damage'].append(name)\n",
    "    elif damage_scale[0] < dict[name]['Damage'] <= damage_scale[1]:\n",
    "      hurricane_by_damage[1].append(name)\n",
    "    elif damage_scale[1] < dict[name]['Damage'] <= damage_scale[2]:\n",
    "      hurricane_by_damage[2].append(name)\n",
    "    elif damage_scale[2] <= dict[name]['Damage'] <= damage_scale[3]:\n",
    "      hurricane_by_damage[3].append(name)\n",
    "    elif damage_scale[3] <= dict[name]['Damage'] <= damage_scale[4]:\n",
    "      hurricane_by_damage[4].append(name)\n",
    "    else:\n",
    "      hurricane_by_damage[5].append(name)\n",
    "  return hurricane_by_damage\n",
    "# categorize hurricanes in new dictionary with damage severity as key\n",
    "print(damage_rating(hurricanes))  "
   ]
  }
 ],
 "metadata": {
  "kernelspec": {
   "display_name": "Python 3 (ipykernel)",
   "language": "python",
   "name": "python3"
  },
  "language_info": {
   "codemirror_mode": {
    "name": "ipython",
    "version": 3
   },
   "file_extension": ".py",
   "mimetype": "text/x-python",
   "name": "python",
   "nbconvert_exporter": "python",
   "pygments_lexer": "ipython3",
   "version": "3.9.7"
  }
 },
 "nbformat": 4,
 "nbformat_minor": 5
}
